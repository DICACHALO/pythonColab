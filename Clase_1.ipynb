{
  "nbformat": 4,
  "nbformat_minor": 0,
  "metadata": {
    "colab": {
      "name": "Clase_1.ipynb",
      "provenance": [],
      "toc_visible": true,
      "authorship_tag": "ABX9TyNos5G+3sq42KW8qVqbzYAi",
      "include_colab_link": true
    },
    "kernelspec": {
      "name": "python3",
      "display_name": "Python 3"
    },
    "language_info": {
      "name": "python"
    }
  },
  "cells": [
    {
      "cell_type": "markdown",
      "metadata": {
        "id": "view-in-github",
        "colab_type": "text"
      },
      "source": [
        "<a href=\"https://colab.research.google.com/github/DICACHALO/pythonColab/blob/main/Clase_1.ipynb\" target=\"_parent\"><img src=\"https://colab.research.google.com/assets/colab-badge.svg\" alt=\"Open In Colab\"/></a>"
      ]
    },
    {
      "cell_type": "markdown",
      "source": [
        "# Programación en Python"
      ],
      "metadata": {
        "id": "_PAcT63J2C5C"
      }
    },
    {
      "cell_type": "markdown",
      "source": [
        "## Variables y operaciones"
      ],
      "metadata": {
        "id": "2_qSqm4G4MaZ"
      }
    },
    {
      "cell_type": "code",
      "source": [
        "# Variables numéricas enteras\n",
        "\"\"\" \n",
        "Comentario de varias líneas\n",
        "Inicia con tres comillas dobles y finaliza con otras tres comillas dobles\n",
        "\"\"\"\n",
        "a = 1\n",
        "b = 4\n",
        "print(a)"
      ],
      "metadata": {
        "colab": {
          "base_uri": "https://localhost:8080/"
        },
        "id": "s3ujNZ-X4GkB",
        "outputId": "96428ebf-9352-473f-fdbc-591b4ac0f667"
      },
      "execution_count": 1,
      "outputs": [
        {
          "output_type": "stream",
          "name": "stdout",
          "text": [
            "1\n"
          ]
        }
      ]
    },
    {
      "cell_type": "code",
      "source": [
        "a"
      ],
      "metadata": {
        "colab": {
          "base_uri": "https://localhost:8080/"
        },
        "id": "YuvsRe595OGo",
        "outputId": "26ec41ca-bdc3-4115-d2b8-f5865634c3db"
      },
      "execution_count": 2,
      "outputs": [
        {
          "output_type": "execute_result",
          "data": {
            "text/plain": [
              "1"
            ]
          },
          "metadata": {},
          "execution_count": 2
        }
      ]
    },
    {
      "cell_type": "code",
      "source": [
        "b"
      ],
      "metadata": {
        "colab": {
          "base_uri": "https://localhost:8080/"
        },
        "id": "34Jd3bm05Qn9",
        "outputId": "46de20d5-496a-4320-e953-b97c3828522b"
      },
      "execution_count": 3,
      "outputs": [
        {
          "output_type": "execute_result",
          "data": {
            "text/plain": [
              "4"
            ]
          },
          "metadata": {},
          "execution_count": 3
        }
      ]
    },
    {
      "cell_type": "code",
      "source": [
        "print(a,b)"
      ],
      "metadata": {
        "colab": {
          "base_uri": "https://localhost:8080/"
        },
        "id": "CCk5qX5b5T5N",
        "outputId": "5f67bdbf-963c-4acd-d76c-79634f5d6ca6"
      },
      "execution_count": 4,
      "outputs": [
        {
          "output_type": "stream",
          "name": "stdout",
          "text": [
            "1 4\n"
          ]
        }
      ]
    },
    {
      "cell_type": "code",
      "source": [
        "# Variables de texto o String\n",
        "c = 'Diana'\n",
        "print(c)"
      ],
      "metadata": {
        "colab": {
          "base_uri": "https://localhost:8080/"
        },
        "id": "AQLjzn8H5meJ",
        "outputId": "26c1d059-07e9-40f5-c0f9-d0a17b1114ec"
      },
      "execution_count": 5,
      "outputs": [
        {
          "output_type": "stream",
          "name": "stdout",
          "text": [
            "Diana\n"
          ]
        }
      ]
    },
    {
      "cell_type": "code",
      "source": [
        "# Variables Booleanas o banderillas\n",
        "t = True\n",
        "f = False\n",
        "print(t,f)"
      ],
      "metadata": {
        "colab": {
          "base_uri": "https://localhost:8080/"
        },
        "id": "_vnYt_AM628S",
        "outputId": "8e7e40f5-77ec-440f-f2ae-e70b5a706813"
      },
      "execution_count": 6,
      "outputs": [
        {
          "output_type": "stream",
          "name": "stdout",
          "text": [
            "True False\n"
          ]
        }
      ]
    },
    {
      "cell_type": "code",
      "source": [
        "# Operaciones\n",
        "suma = a + b\n",
        "resta = suma -b\n",
        "print(suma, resta)"
      ],
      "metadata": {
        "colab": {
          "base_uri": "https://localhost:8080/"
        },
        "id": "uROsIdjk7XZ7",
        "outputId": "8c231bfe-29df-430d-98e5-eb6820cda6ea"
      },
      "execution_count": 7,
      "outputs": [
        {
          "output_type": "stream",
          "name": "stdout",
          "text": [
            "5 1\n"
          ]
        }
      ]
    },
    {
      "cell_type": "code",
      "source": [
        "multiplicacion = b * suma \n",
        "print(suma, multiplicacion)"
      ],
      "metadata": {
        "colab": {
          "base_uri": "https://localhost:8080/"
        },
        "id": "L5IO7Izc8__U",
        "outputId": "83190668-7b5e-4875-b07e-736b86adc735"
      },
      "execution_count": 8,
      "outputs": [
        {
          "output_type": "stream",
          "name": "stdout",
          "text": [
            "5 20\n"
          ]
        }
      ]
    },
    {
      "cell_type": "code",
      "source": [
        "division = suma / multiplicacion\n",
        "print(division)"
      ],
      "metadata": {
        "colab": {
          "base_uri": "https://localhost:8080/"
        },
        "id": "86UjfoFA9cgE",
        "outputId": "ff6832ff-d261-4802-c0c1-70da765ed3de"
      },
      "execution_count": 9,
      "outputs": [
        {
          "output_type": "stream",
          "name": "stdout",
          "text": [
            "0.25\n"
          ]
        }
      ]
    },
    {
      "cell_type": "code",
      "source": [
        "# Concatenar\n",
        "# La comilla doble tiene prioridad a la comilla simple\n",
        "name = \"Carolina\"\n",
        "last_name = \"Chacon\"\n",
        "full_name = c + ' ' + name + ' ' + ' ' + last_name\n",
        "print(full_name)"
      ],
      "metadata": {
        "colab": {
          "base_uri": "https://localhost:8080/"
        },
        "id": "hy8bphrq95nm",
        "outputId": "5922b1e4-915d-46b0-ed96-9a05534c11e8"
      },
      "execution_count": 13,
      "outputs": [
        {
          "output_type": "stream",
          "name": "stdout",
          "text": [
            "Diana Carolina  Chacon\n"
          ]
        }
      ]
    },
    {
      "cell_type": "code",
      "source": [
        "# Concatenar números con texto\n",
        "# Debemos convertir el número a texto con str()\n",
        "print('La operación final es: ' + str(division))"
      ],
      "metadata": {
        "colab": {
          "base_uri": "https://localhost:8080/"
        },
        "id": "ir0OkCNZ_DVf",
        "outputId": "0f61056a-b043-4b0d-a3af-df4e3001aeb5"
      },
      "execution_count": 15,
      "outputs": [
        {
          "output_type": "stream",
          "name": "stdout",
          "text": [
            "La operación final es: 0.25\n"
          ]
        }
      ]
    },
    {
      "cell_type": "code",
      "source": [
        "# Convertir String a número entero y a número décimal\n",
        "x = 8\n",
        "y = '7'\n",
        "w = '4.6'\n",
        "z = x + int(y) + float(w)\n",
        "print(z)"
      ],
      "metadata": {
        "colab": {
          "base_uri": "https://localhost:8080/"
        },
        "id": "0mRTjXUCAnUZ",
        "outputId": "b255ada9-ac5e-4ac7-a96b-186a2cd152fe"
      },
      "execution_count": 19,
      "outputs": [
        {
          "output_type": "stream",
          "name": "stdout",
          "text": [
            "19.6\n"
          ]
        }
      ]
    },
    {
      "cell_type": "code",
      "source": [
        ""
      ],
      "metadata": {
        "id": "_xvCbg14BSE2"
      },
      "execution_count": null,
      "outputs": []
    }
  ]
}