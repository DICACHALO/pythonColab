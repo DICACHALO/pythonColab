{
  "nbformat": 4,
  "nbformat_minor": 0,
  "metadata": {
    "colab": {
      "name": "Copia de Clase_1.ipynb",
      "provenance": [],
      "toc_visible": true,
      "authorship_tag": "ABX9TyPSEQSW+vwpQ55u9WimTbq0",
      "include_colab_link": true
    },
    "kernelspec": {
      "name": "python3",
      "display_name": "Python 3"
    },
    "language_info": {
      "name": "python"
    }
  },
  "cells": [
    {
      "cell_type": "markdown",
      "metadata": {
        "id": "view-in-github",
        "colab_type": "text"
      },
      "source": [
        "<a href=\"https://colab.research.google.com/github/DICACHALO/pythonColab/blob/main/Clase_1.ipynb\" target=\"_parent\"><img src=\"https://colab.research.google.com/assets/colab-badge.svg\" alt=\"Open In Colab\"/></a>"
      ]
    },
    {
      "cell_type": "markdown",
      "source": [
        "# Programación en Python"
      ],
      "metadata": {
        "id": "_PAcT63J2C5C"
      }
    },
    {
      "cell_type": "markdown",
      "source": [
        "## Variables y operaciones"
      ],
      "metadata": {
        "id": "2_qSqm4G4MaZ"
      }
    },
    {
      "cell_type": "code",
      "source": [
        "# Variables numéricas enteras\n",
        "\"\"\" \n",
        "Comentario de varias líneas\n",
        "Inicia con tres comillas dobles y finaliza con otras tres comillas dobles\n",
        "\"\"\"\n",
        "a = 1\n",
        "b = 4\n",
        "print(a)"
      ],
      "metadata": {
        "colab": {
          "base_uri": "https://localhost:8080/"
        },
        "id": "s3ujNZ-X4GkB",
        "outputId": "a51d0bb6-0fc9-4a2b-976e-d13ce2b6069d"
      },
      "execution_count": null,
      "outputs": [
        {
          "output_type": "stream",
          "name": "stdout",
          "text": [
            "1\n"
          ]
        }
      ]
    },
    {
      "cell_type": "code",
      "source": [
        "a"
      ],
      "metadata": {
        "colab": {
          "base_uri": "https://localhost:8080/"
        },
        "id": "YuvsRe595OGo",
        "outputId": "aed1a7a2-f911-4662-fa52-9316dddc339f"
      },
      "execution_count": null,
      "outputs": [
        {
          "output_type": "execute_result",
          "data": {
            "text/plain": [
              "1"
            ]
          },
          "metadata": {},
          "execution_count": 44
        }
      ]
    },
    {
      "cell_type": "code",
      "source": [
        "b"
      ],
      "metadata": {
        "colab": {
          "base_uri": "https://localhost:8080/"
        },
        "id": "34Jd3bm05Qn9",
        "outputId": "c2e35367-ce66-425c-cf15-38f74512f925"
      },
      "execution_count": null,
      "outputs": [
        {
          "output_type": "execute_result",
          "data": {
            "text/plain": [
              "4"
            ]
          },
          "metadata": {},
          "execution_count": 45
        }
      ]
    },
    {
      "cell_type": "code",
      "source": [
        "print(a,b)"
      ],
      "metadata": {
        "colab": {
          "base_uri": "https://localhost:8080/"
        },
        "id": "CCk5qX5b5T5N",
        "outputId": "fbec3ccc-4959-457f-dc33-813b5939b3cf"
      },
      "execution_count": null,
      "outputs": [
        {
          "output_type": "stream",
          "name": "stdout",
          "text": [
            "1 4\n"
          ]
        }
      ]
    },
    {
      "cell_type": "code",
      "source": [
        "# Variables de texto o String\n",
        "c = 'Diana'\n",
        "print(c)"
      ],
      "metadata": {
        "colab": {
          "base_uri": "https://localhost:8080/"
        },
        "id": "AQLjzn8H5meJ",
        "outputId": "07603d73-b138-4056-aa7c-3a4d070c2667"
      },
      "execution_count": null,
      "outputs": [
        {
          "output_type": "stream",
          "name": "stdout",
          "text": [
            "Diana\n"
          ]
        }
      ]
    },
    {
      "cell_type": "code",
      "source": [
        "# Variables Booleanas o banderillas\n",
        "t = True\n",
        "f = False\n",
        "print(t,f)"
      ],
      "metadata": {
        "colab": {
          "base_uri": "https://localhost:8080/"
        },
        "id": "_vnYt_AM628S",
        "outputId": "926a143c-644c-4f5f-d927-4ee6b124e505"
      },
      "execution_count": null,
      "outputs": [
        {
          "output_type": "stream",
          "name": "stdout",
          "text": [
            "True False\n"
          ]
        }
      ]
    },
    {
      "cell_type": "code",
      "source": [
        "# Operaciones\n",
        "suma = a + b\n",
        "resta = suma -b\n",
        "print(suma, resta)"
      ],
      "metadata": {
        "colab": {
          "base_uri": "https://localhost:8080/"
        },
        "id": "uROsIdjk7XZ7",
        "outputId": "c7cb403c-50bf-4aea-fa22-33d44e1cbec9"
      },
      "execution_count": null,
      "outputs": [
        {
          "output_type": "stream",
          "name": "stdout",
          "text": [
            "5 1\n"
          ]
        }
      ]
    },
    {
      "cell_type": "code",
      "source": [
        "multiplicacion = b * suma \n",
        "print(suma, multiplicacion)"
      ],
      "metadata": {
        "colab": {
          "base_uri": "https://localhost:8080/"
        },
        "id": "L5IO7Izc8__U",
        "outputId": "bb5103c8-0fa6-4ee7-dfa4-8a24c61196b1"
      },
      "execution_count": null,
      "outputs": [
        {
          "output_type": "stream",
          "name": "stdout",
          "text": [
            "5 20\n"
          ]
        }
      ]
    },
    {
      "cell_type": "code",
      "source": [
        "division = suma / multiplicacion\n",
        "print(division)"
      ],
      "metadata": {
        "colab": {
          "base_uri": "https://localhost:8080/"
        },
        "id": "86UjfoFA9cgE",
        "outputId": "14a70b1d-5bc4-442a-9e14-5409a522bd0f"
      },
      "execution_count": null,
      "outputs": [
        {
          "output_type": "stream",
          "name": "stdout",
          "text": [
            "0.25\n"
          ]
        }
      ]
    },
    {
      "cell_type": "code",
      "source": [
        "# Concatenar\n",
        "# La comilla doble tiene prioridad a la comilla simple\n",
        "name = \"Carolina\"\n",
        "last_name = \"Chacon\"\n",
        "full_name = c + ' ' + name + ' ' + ' ' + last_name\n",
        "print(full_name)"
      ],
      "metadata": {
        "colab": {
          "base_uri": "https://localhost:8080/"
        },
        "id": "hy8bphrq95nm",
        "outputId": "6130ae6c-e171-49a0-c299-da0cbc4a2b78"
      },
      "execution_count": null,
      "outputs": [
        {
          "output_type": "stream",
          "name": "stdout",
          "text": [
            "Diana Carolina  Chacon\n"
          ]
        }
      ]
    },
    {
      "cell_type": "code",
      "source": [
        "# Concatenar números con texto\n",
        "# Debemos convertir el número a texto con str()\n",
        "print('La operación final es: ' + str(division))"
      ],
      "metadata": {
        "colab": {
          "base_uri": "https://localhost:8080/"
        },
        "id": "ir0OkCNZ_DVf",
        "outputId": "19f2f17e-5b6c-4dae-9aca-0bf4538952ab"
      },
      "execution_count": null,
      "outputs": [
        {
          "output_type": "stream",
          "name": "stdout",
          "text": [
            "La operación final es: 0.25\n"
          ]
        }
      ]
    },
    {
      "cell_type": "code",
      "source": [
        "# Convertir String a número entero y a número décimal\n",
        "x = 8\n",
        "y = '7'\n",
        "w = '4.6'\n",
        "z = x + int(y) + float(w)\n",
        "print(z)"
      ],
      "metadata": {
        "colab": {
          "base_uri": "https://localhost:8080/"
        },
        "id": "0mRTjXUCAnUZ",
        "outputId": "27dc02cb-5192-41fb-afd6-83f1659d4a5c"
      },
      "execution_count": null,
      "outputs": [
        {
          "output_type": "stream",
          "name": "stdout",
          "text": [
            "19.6\n"
          ]
        }
      ]
    },
    {
      "cell_type": "markdown",
      "source": [
        "## Condicionales\n"
      ],
      "metadata": {
        "id": "dOxlmvge87sF"
      }
    },
    {
      "cell_type": "code",
      "source": [
        "# Operadores <, >, <=, >=, !=, and, or\n",
        "# if es una decisión\n",
        "if True:\n",
        "  print('sucedió')"
      ],
      "metadata": {
        "colab": {
          "base_uri": "https://localhost:8080/"
        },
        "id": "2c28eJaI9HEZ",
        "outputId": "791a4771-7925-44e8-cdc4-9893e3875e7d"
      },
      "execution_count": null,
      "outputs": [
        {
          "output_type": "stream",
          "name": "stdout",
          "text": [
            "sucedió\n"
          ]
        }
      ]
    },
    {
      "cell_type": "code",
      "source": [
        "if False:\n",
        "  print('sucedió')\n",
        "# No hay resultado porque es False"
      ],
      "metadata": {
        "id": "q3hMnCqB-MgX"
      },
      "execution_count": null,
      "outputs": []
    },
    {
      "cell_type": "code",
      "source": [
        "if False:\n",
        "  print('sucedió')\n",
        "else:\n",
        "  print('no sucedió')\n",
        "# No hay resultado porque es False"
      ],
      "metadata": {
        "colab": {
          "base_uri": "https://localhost:8080/"
        },
        "id": "m52S8mft-1_c",
        "outputId": "75fc2bc3-cf39-4822-e409-65abd2282dbb"
      },
      "execution_count": null,
      "outputs": [
        {
          "output_type": "stream",
          "name": "stdout",
          "text": [
            "no sucedió\n"
          ]
        }
      ]
    },
    {
      "cell_type": "code",
      "source": [
        "# menor <\n",
        "number1 = 5\n",
        "number2 = 8\n",
        "if number1 < number2:\n",
        "  result = number1 + number2\n",
        "else:\n",
        "  result = number2 - number1\n",
        "print(result)"
      ],
      "metadata": {
        "colab": {
          "base_uri": "https://localhost:8080/"
        },
        "id": "DXMwkz8G_MbP",
        "outputId": "2f35c531-496a-4184-99d8-5e17f6d43cc6"
      },
      "execution_count": null,
      "outputs": [
        {
          "output_type": "stream",
          "name": "stdout",
          "text": [
            "13\n"
          ]
        }
      ]
    },
    {
      "cell_type": "code",
      "source": [
        "# menor o igual <=\n",
        "number = 10\n",
        "if number < 10:\n",
        "  print('a es menor que 10')\n",
        "elif number >= 10:\n",
        "  print('a es mayor o igual que 10')\n"
      ],
      "metadata": {
        "colab": {
          "base_uri": "https://localhost:8080/"
        },
        "id": "evpI2R8a_pyu",
        "outputId": "415fdff3-acc8-4e0c-8d4d-98af4482752c"
      },
      "execution_count": null,
      "outputs": [
        {
          "output_type": "stream",
          "name": "stdout",
          "text": [
            "a es mayor o igual que 10\n"
          ]
        }
      ]
    },
    {
      "cell_type": "code",
      "source": [
        "age = 18\n",
        "if age<18:\n",
        "  print('No puedes ingresar')\n",
        "elif age>=18:\n",
        "  print('Bienvenida a nuestro sistema')"
      ],
      "metadata": {
        "colab": {
          "base_uri": "https://localhost:8080/"
        },
        "id": "5U6yy1EuDc3J",
        "outputId": "78e50ef0-b105-4fd5-c61f-909807de2d7d"
      },
      "execution_count": null,
      "outputs": [
        {
          "output_type": "stream",
          "name": "stdout",
          "text": [
            "Bienvenida a nuestro sistema\n"
          ]
        }
      ]
    },
    {
      "cell_type": "code",
      "source": [
        "import random\n",
        "\n",
        "r1 = random.randint(0, 15);\n",
        "print(r1)\n",
        "if r1 < 5:\n",
        "  print('el número % s es menor que 5' %(r1))\n",
        "elif r1 > 5:\n",
        "  print('el número % s es mayor que 5' %(r1))\n",
        "elif r1 == 5:\n",
        "  print('el número % s es 5' %(r1))"
      ],
      "metadata": {
        "colab": {
          "base_uri": "https://localhost:8080/"
        },
        "id": "kUByXPAnC1QA",
        "outputId": "3a788dc1-7648-4a03-e483-10ca4da43950"
      },
      "execution_count": null,
      "outputs": [
        {
          "output_type": "stream",
          "name": "stdout",
          "text": [
            "6\n",
            "el número 6 es mayor que 5\n"
          ]
        }
      ]
    },
    {
      "cell_type": "code",
      "source": [
        "# and\n",
        "age = 1\n",
        "if age>0 and age<18:\n",
        "  print('No puedes ingresar')\n",
        "elif age>=18:\n",
        "  print('Bienvenida a nuestro sistema')"
      ],
      "metadata": {
        "id": "i2tt19i3JfUf",
        "outputId": "53d1dd4c-dcb8-480f-f8c0-da6939514414",
        "colab": {
          "base_uri": "https://localhost:8080/"
        }
      },
      "execution_count": null,
      "outputs": [
        {
          "output_type": "stream",
          "name": "stdout",
          "text": [
            "No puedes ingresar\n"
          ]
        }
      ]
    },
    {
      "cell_type": "code",
      "source": [
        "r1 = random.randint(0, 100)\n",
        "print(r1)\n",
        "if r1 >= 10 and r1 <= 20:\n",
        "  print('Cumple primera condición')\n",
        "elif r1 >= 60 and r1 <= 80:\n",
        "  print('Cumple segunda condición')\n",
        "else:\n",
        "  print('No cumple ninguna de las condiciones')"
      ],
      "metadata": {
        "id": "2_w7Qf_LKhhB",
        "outputId": "a77fced4-e46a-4a63-a560-9d9fc3d54c42",
        "colab": {
          "base_uri": "https://localhost:8080/"
        }
      },
      "execution_count": null,
      "outputs": [
        {
          "output_type": "stream",
          "name": "stdout",
          "text": [
            "91\n",
            "No cumple ninguna de las condiciones\n"
          ]
        }
      ]
    },
    {
      "cell_type": "code",
      "source": [
        "#or\n",
        "r1 = random.randint(0, 100)\n",
        "print(r1)\n",
        "if (r1 >= 10 and r1 <= 20) or (r1 >= 60 and r1 <= 80):\n",
        "  print('Cumple condición')\n",
        "else:\n",
        "  print('No cumple ninguna de las condiciones')"
      ],
      "metadata": {
        "id": "6GTp1orIL6Jj",
        "outputId": "c9ea5cf1-7fca-4c08-9426-296dcb212e0b",
        "colab": {
          "base_uri": "https://localhost:8080/"
        }
      },
      "execution_count": null,
      "outputs": [
        {
          "output_type": "stream",
          "name": "stdout",
          "text": [
            "55\n",
            "No cumple ninguna de las condiciones\n"
          ]
        }
      ]
    },
    {
      "cell_type": "markdown",
      "source": [
        "## **Ciclos**"
      ],
      "metadata": {
        "id": "nOyr5K13OO__"
      }
    },
    {
      "cell_type": "markdown",
      "source": [
        "### While\n",
        "While es una estructura cíclica, que mientras se cumpla una condición ejecutará un bloque de código tantas veces como la condición deje de cumplirse o se rompa el ciclo con la orden `break`"
      ],
      "metadata": {
        "id": "LH6fr9HEJXXT"
      }
    },
    {
      "cell_type": "code",
      "source": [
        "i = 0\n",
        "while(True):\n",
        "  i+= 1\n",
        "  r1 = random.randint(0, 15);\n",
        "  if r1 == 5:\n",
        "    print('el número % s es 5' %(r1))\n",
        "    print('Lo encontramos en ' + str(i) + ' intentos')\n",
        "    break"
      ],
      "metadata": {
        "colab": {
          "base_uri": "https://localhost:8080/"
        },
        "id": "M75G69R7GWTr",
        "outputId": "10b7ec01-2be7-4225-9f36-b9d300003445"
      },
      "execution_count": null,
      "outputs": [
        {
          "output_type": "stream",
          "name": "stdout",
          "text": [
            "el número 5 es 5\n",
            "Lo encontramos en 12 intentos\n"
          ]
        }
      ]
    },
    {
      "cell_type": "code",
      "source": [
        "i = 100\n",
        "while(i>0):\n",
        "  print('El número es mayor que cero: ' + str(i))\n",
        "  i-=10\n",
        "  print(i)"
      ],
      "metadata": {
        "id": "F4qH4eV7Ot6L",
        "outputId": "d6b71170-2647-4efb-ca12-2678acd82db1",
        "colab": {
          "base_uri": "https://localhost:8080/"
        }
      },
      "execution_count": null,
      "outputs": [
        {
          "output_type": "stream",
          "name": "stdout",
          "text": [
            "El número es mayor que cero: 100\n",
            "90\n",
            "El número es mayor que cero: 90\n",
            "80\n",
            "El número es mayor que cero: 80\n",
            "70\n",
            "El número es mayor que cero: 70\n",
            "60\n",
            "El número es mayor que cero: 60\n",
            "50\n",
            "El número es mayor que cero: 50\n",
            "40\n",
            "El número es mayor que cero: 40\n",
            "30\n",
            "El número es mayor que cero: 30\n",
            "20\n",
            "El número es mayor que cero: 20\n",
            "10\n",
            "El número es mayor que cero: 10\n",
            "0\n"
          ]
        }
      ]
    },
    {
      "cell_type": "code",
      "source": [
        "v = True\n",
        "i = 0\n",
        "while(v):\n",
        "  i+= 1\n",
        "  r1 = random.randint(0, 10)\n",
        "  if(r1 == 7):\n",
        "    print('¡Felicitaciones! Obtuviste el 7 de la suerte en el intento ' + str(i))\n",
        "    v = False\n",
        "  else:\n",
        "    print(str(i) + '. Aún no, fue un  ' + str(r1))"
      ],
      "metadata": {
        "id": "Xg6E9fzxRHB1",
        "outputId": "aa82a17d-9973-4618-9fbe-f2cb9d9ee0bb",
        "colab": {
          "base_uri": "https://localhost:8080/"
        }
      },
      "execution_count": null,
      "outputs": [
        {
          "output_type": "stream",
          "name": "stdout",
          "text": [
            "1. Aún no, fue un  2\n",
            "2. Aún no, fue un  6\n",
            "3. Aún no, fue un  5\n",
            "¡Felicitaciones! Obtuviste el 7 de la suerte en el intento 4\n"
          ]
        }
      ]
    }
  ]
}