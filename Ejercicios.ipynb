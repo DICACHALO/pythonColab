{
  "nbformat": 4,
  "nbformat_minor": 0,
  "metadata": {
    "colab": {
      "name": "Ejercicios.ipynb",
      "provenance": [],
      "authorship_tag": "ABX9TyNjm77jyDXGAvYhmqzgVmc0",
      "include_colab_link": true
    },
    "kernelspec": {
      "name": "python3",
      "display_name": "Python 3"
    },
    "language_info": {
      "name": "python"
    }
  },
  "cells": [
    {
      "cell_type": "markdown",
      "metadata": {
        "id": "view-in-github",
        "colab_type": "text"
      },
      "source": [
        "<a href=\"https://colab.research.google.com/github/DICACHALO/pythonColab/blob/main/Ejercicios.ipynb\" target=\"_parent\"><img src=\"https://colab.research.google.com/assets/colab-badge.svg\" alt=\"Open In Colab\"/></a>"
      ]
    },
    {
      "cell_type": "markdown",
      "source": [
        "\n",
        "\n",
        "### Ejercicio 1\n",
        "Escribir un programa que pregunte al usuario su edad y muestre por pantalla si es mayor de edad o no.\n",
        "\n"
      ],
      "metadata": {
        "id": "mqR-lT8HQf4t"
      }
    },
    {
      "cell_type": "code",
      "execution_count": 9,
      "metadata": {
        "colab": {
          "base_uri": "https://localhost:8080/"
        },
        "id": "t55R5faYQZLn",
        "outputId": "4b5f45b3-6a1f-4440-c54c-8b4d833739b4"
      },
      "outputs": [
        {
          "output_type": "stream",
          "name": "stdout",
          "text": [
            "Por favor, dime tu edad19\n",
            "¡Muy bien! Eres mayor de edad\n"
          ]
        }
      ],
      "source": [
        "age = int(input('Por favor, dime tu edad'))\n",
        "if age >= 18:\n",
        "  print('¡Muy bien! Eres mayor de edad')\n",
        "else:\n",
        "  print('¡Hola! Te informo que eres menor de edad.')"
      ]
    },
    {
      "cell_type": "markdown",
      "source": [
        "### Ejercicio 2\n",
        "Escribir un programa que pregunte al usuario su edad y muestre por pantalla todos los años que ha cumplido (desde 1 hasta su edad)."
      ],
      "metadata": {
        "id": "R9RhGoVWT3fJ"
      }
    },
    {
      "cell_type": "code",
      "source": [
        "age = int(input('Por favor, dime tu edad'))\n",
        "i = 0\n",
        "while(True): \n",
        "  i+= 1\n",
        "  print('Cumpliste ' + str(i))\n",
        "  if i==age:\n",
        "    print('¡Feliz cumpleaños!')\n",
        "    break"
      ],
      "metadata": {
        "colab": {
          "base_uri": "https://localhost:8080/"
        },
        "id": "8IPoBQqyTyEM",
        "outputId": "f5939d08-bef8-453b-dade-bf15b312b25c"
      },
      "execution_count": 21,
      "outputs": [
        {
          "output_type": "stream",
          "name": "stdout",
          "text": [
            "Por favor, dime tu edad10\n",
            "Cumpliste 1\n",
            "Cumpliste 2\n",
            "Cumpliste 3\n",
            "Cumpliste 4\n",
            "Cumpliste 5\n",
            "Cumpliste 6\n",
            "Cumpliste 7\n",
            "Cumpliste 8\n",
            "Cumpliste 9\n",
            "Cumpliste 10\n",
            "¡Feliz cumpleaños!\n"
          ]
        }
      ]
    },
    {
      "cell_type": "code",
      "source": [
        "age = int(input('Por favor, dime tu edad'))\n",
        "i = 0\n",
        "while(i != age): \n",
        "  i+= 1\n",
        "  print('Cumpliste ' + str(i))\n",
        "print('¡Feliz cumpleaños!')"
      ],
      "metadata": {
        "colab": {
          "base_uri": "https://localhost:8080/"
        },
        "id": "uRiWXQt5bpsp",
        "outputId": "096fabca-81ce-43dd-d3ff-02e32a6f4ee5"
      },
      "execution_count": 24,
      "outputs": [
        {
          "output_type": "stream",
          "name": "stdout",
          "text": [
            "Por favor, dime tu edad10\n",
            "Cumpliste 1\n",
            "Cumpliste 2\n",
            "Cumpliste 3\n",
            "Cumpliste 4\n",
            "Cumpliste 5\n",
            "Cumpliste 6\n",
            "Cumpliste 7\n",
            "Cumpliste 8\n",
            "Cumpliste 9\n",
            "Cumpliste 10\n",
            "¡Feliz cumpleaños!\n"
          ]
        }
      ]
    },
    {
      "cell_type": "markdown",
      "source": [
        "Escribir un programa que almacene la cadena de caracteres contraseña en una variable, pregunte al usuario por la contraseña hasta que introduzca la contraseña correcta."
      ],
      "metadata": {
        "id": "s5qlKJSDcrKM"
      }
    },
    {
      "cell_type": "code",
      "source": [
        "password = 'Sultan'\n",
        "password_user = ' '\n",
        "while(password != password_user):\n",
        "  password_user = input('¿Cuál es la contraseña?')\n",
        "print('***¡Felicidades! Es la contraseña correcta. ***')"
      ],
      "metadata": {
        "colab": {
          "base_uri": "https://localhost:8080/"
        },
        "id": "gjEPuHo3c1y0",
        "outputId": "77fe2be9-9916-46ef-cdd4-e8905bcc0c78"
      },
      "execution_count": 29,
      "outputs": [
        {
          "output_type": "stream",
          "name": "stdout",
          "text": [
            "¿Cuál es la contraseña?fdfdf\n",
            "¿Cuál es la contraseña?Sultan\n",
            "***¡Felicidades! Es la contraseña correcta. ***\n"
          ]
        }
      ]
    }
  ]
}